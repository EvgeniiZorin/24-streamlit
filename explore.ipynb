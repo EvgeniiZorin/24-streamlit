{
 "cells": [
  {
   "cell_type": "markdown",
   "metadata": {},
   "source": [
    "# Load"
   ]
  },
  {
   "cell_type": "code",
   "execution_count": 26,
   "metadata": {},
   "outputs": [
    {
     "data": {
      "text/plain": [
       "['anagrams',\n",
       " 'anscombe',\n",
       " 'attention',\n",
       " 'brain_networks',\n",
       " 'car_crashes',\n",
       " 'diamonds',\n",
       " 'dots',\n",
       " 'dowjones',\n",
       " 'exercise',\n",
       " 'flights',\n",
       " 'fmri',\n",
       " 'geyser',\n",
       " 'glue',\n",
       " 'healthexp',\n",
       " 'iris',\n",
       " 'mpg',\n",
       " 'penguins',\n",
       " 'planets',\n",
       " 'seaice',\n",
       " 'taxis',\n",
       " 'tips',\n",
       " 'titanic']"
      ]
     },
     "execution_count": 26,
     "metadata": {},
     "output_type": "execute_result"
    }
   ],
   "source": [
    "import pandas as pd\n",
    "import seaborn as sns\n",
    "import plotly.express as px\n",
    "\n",
    "sns.get_dataset_names()"
   ]
  },
  {
   "cell_type": "markdown",
   "metadata": {},
   "source": [
    "# Df1"
   ]
  },
  {
   "cell_type": "code",
   "execution_count": 27,
   "metadata": {},
   "outputs": [
    {
     "name": "stdout",
     "output_type": "stream",
     "text": [
      "['Germany' 'France' 'United Kingdom' 'Japan' 'USA' 'Canada']\n"
     ]
    },
    {
     "data": {
      "text/html": [
       "<div>\n",
       "<style scoped>\n",
       "    .dataframe tbody tr th:only-of-type {\n",
       "        vertical-align: middle;\n",
       "    }\n",
       "\n",
       "    .dataframe tbody tr th {\n",
       "        vertical-align: top;\n",
       "    }\n",
       "\n",
       "    .dataframe thead th {\n",
       "        text-align: right;\n",
       "    }\n",
       "</style>\n",
       "<table border=\"1\" class=\"dataframe\">\n",
       "  <thead>\n",
       "    <tr style=\"text-align: right;\">\n",
       "      <th></th>\n",
       "      <th>Year</th>\n",
       "      <th>Country</th>\n",
       "      <th>Spending_USD</th>\n",
       "      <th>Life_Expectancy</th>\n",
       "    </tr>\n",
       "  </thead>\n",
       "  <tbody>\n",
       "    <tr>\n",
       "      <th>0</th>\n",
       "      <td>1970</td>\n",
       "      <td>Germany</td>\n",
       "      <td>252.311</td>\n",
       "      <td>70.6</td>\n",
       "    </tr>\n",
       "    <tr>\n",
       "      <th>1</th>\n",
       "      <td>1970</td>\n",
       "      <td>France</td>\n",
       "      <td>192.143</td>\n",
       "      <td>72.2</td>\n",
       "    </tr>\n",
       "    <tr>\n",
       "      <th>2</th>\n",
       "      <td>1970</td>\n",
       "      <td>United Kingdom</td>\n",
       "      <td>123.993</td>\n",
       "      <td>71.9</td>\n",
       "    </tr>\n",
       "    <tr>\n",
       "      <th>3</th>\n",
       "      <td>1970</td>\n",
       "      <td>Japan</td>\n",
       "      <td>150.437</td>\n",
       "      <td>72.0</td>\n",
       "    </tr>\n",
       "    <tr>\n",
       "      <th>4</th>\n",
       "      <td>1970</td>\n",
       "      <td>USA</td>\n",
       "      <td>326.961</td>\n",
       "      <td>70.9</td>\n",
       "    </tr>\n",
       "  </tbody>\n",
       "</table>\n",
       "</div>"
      ],
      "text/plain": [
       "   Year         Country  Spending_USD  Life_Expectancy\n",
       "0  1970         Germany       252.311             70.6\n",
       "1  1970          France       192.143             72.2\n",
       "2  1970  United Kingdom       123.993             71.9\n",
       "3  1970           Japan       150.437             72.0\n",
       "4  1970             USA       326.961             70.9"
      ]
     },
     "execution_count": 27,
     "metadata": {},
     "output_type": "execute_result"
    }
   ],
   "source": [
    "df1 = sns.load_dataset('healthexp')\n",
    "df1['Country'] = df1['Country'].replace({'Great Britain':'United Kingdom'})\n",
    "print( df1['Country'].unique() )\n",
    "df1.head()"
   ]
  },
  {
   "cell_type": "code",
   "execution_count": 28,
   "metadata": {},
   "outputs": [],
   "source": [
    "# df1['Country'].values"
   ]
  },
  {
   "cell_type": "code",
   "execution_count": 29,
   "metadata": {},
   "outputs": [
    {
     "data": {
      "application/vnd.plotly.v1+json": {
       "config": {
        "plotlyServerURL": "https://plot.ly"
       },
       "data": [
        {
         "customdata": [
          [
           "Germany"
          ],
          [
           "Germany"
          ],
          [
           "Germany"
          ],
          [
           "Germany"
          ],
          [
           "Germany"
          ],
          [
           "Germany"
          ],
          [
           "Germany"
          ],
          [
           "Germany"
          ],
          [
           "Germany"
          ],
          [
           "Germany"
          ],
          [
           "Germany"
          ],
          [
           "Germany"
          ],
          [
           "Germany"
          ],
          [
           "Germany"
          ],
          [
           "Germany"
          ],
          [
           "Germany"
          ],
          [
           "Germany"
          ],
          [
           "Germany"
          ],
          [
           "Germany"
          ],
          [
           "Germany"
          ],
          [
           "Germany"
          ],
          [
           "Germany"
          ],
          [
           "Germany"
          ],
          [
           "Germany"
          ],
          [
           "Germany"
          ],
          [
           "Germany"
          ],
          [
           "Germany"
          ],
          [
           "Germany"
          ],
          [
           "Germany"
          ],
          [
           "Germany"
          ],
          [
           "Germany"
          ],
          [
           "Germany"
          ],
          [
           "Germany"
          ],
          [
           "Germany"
          ],
          [
           "Germany"
          ],
          [
           "Germany"
          ],
          [
           "Germany"
          ],
          [
           "Germany"
          ],
          [
           "Germany"
          ],
          [
           "Germany"
          ],
          [
           "Germany"
          ],
          [
           "Germany"
          ],
          [
           "Germany"
          ],
          [
           "Germany"
          ],
          [
           "Germany"
          ],
          [
           "Germany"
          ],
          [
           "Germany"
          ],
          [
           "Germany"
          ],
          [
           "Germany"
          ],
          [
           "Germany"
          ]
         ],
         "hovertemplate": "Life_Expectancy=%{y}<extra></extra>",
         "legendgroup": "Germany",
         "line": {
          "color": "#636efa",
          "dash": "solid"
         },
         "marker": {
          "symbol": "circle"
         },
         "mode": "lines",
         "name": "Germany",
         "orientation": "v",
         "showlegend": true,
         "type": "scatter",
         "x": [
          1970,
          1971,
          1972,
          1973,
          1974,
          1975,
          1976,
          1977,
          1978,
          1979,
          1980,
          1981,
          1982,
          1983,
          1984,
          1985,
          1986,
          1987,
          1988,
          1989,
          1990,
          1992,
          1993,
          1994,
          1995,
          1996,
          1997,
          1998,
          1999,
          2000,
          2001,
          2002,
          2003,
          2004,
          2005,
          2006,
          2007,
          2008,
          2009,
          2010,
          2011,
          2012,
          2013,
          2014,
          2015,
          2016,
          2017,
          2018,
          2019,
          2020
         ],
         "xaxis": "x",
         "y": [
          70.6,
          70.8,
          71,
          71.3,
          71.5,
          71.4,
          71.8,
          72.5,
          72.4,
          72.8,
          72.9,
          73.2,
          73.5,
          73.8,
          74.3,
          75,
          75.2,
          75.6,
          75.9,
          76,
          77.3,
          76.1,
          76.1,
          76.5,
          76.6,
          76.9,
          77.3,
          77.7,
          77.9,
          78.2,
          78.5,
          78.5,
          78.6,
          79.2,
          79.4,
          79.8,
          80.1,
          80.2,
          80.3,
          80.5,
          80.5,
          80.6,
          80.6,
          81.2,
          80.7,
          81,
          81.1,
          81,
          81.3,
          81.1
         ],
         "yaxis": "y"
        },
        {
         "customdata": [
          [
           "France"
          ],
          [
           "France"
          ],
          [
           "France"
          ],
          [
           "France"
          ],
          [
           "France"
          ],
          [
           "France"
          ],
          [
           "France"
          ],
          [
           "France"
          ],
          [
           "France"
          ],
          [
           "France"
          ],
          [
           "France"
          ],
          [
           "France"
          ],
          [
           "France"
          ],
          [
           "France"
          ],
          [
           "France"
          ],
          [
           "France"
          ],
          [
           "France"
          ],
          [
           "France"
          ],
          [
           "France"
          ],
          [
           "France"
          ],
          [
           "France"
          ],
          [
           "France"
          ],
          [
           "France"
          ],
          [
           "France"
          ],
          [
           "France"
          ],
          [
           "France"
          ],
          [
           "France"
          ],
          [
           "France"
          ],
          [
           "France"
          ],
          [
           "France"
          ],
          [
           "France"
          ],
          [
           "France"
          ],
          [
           "France"
          ],
          [
           "France"
          ],
          [
           "France"
          ]
         ],
         "hovertemplate": "Life_Expectancy=%{y}<extra></extra>",
         "legendgroup": "France",
         "line": {
          "color": "#EF553B",
          "dash": "solid"
         },
         "marker": {
          "symbol": "circle"
         },
         "mode": "lines",
         "name": "France",
         "orientation": "v",
         "showlegend": true,
         "type": "scatter",
         "x": [
          1970,
          1975,
          1980,
          1985,
          1990,
          1991,
          1992,
          1993,
          1994,
          1995,
          1996,
          1997,
          1998,
          1999,
          2000,
          2001,
          2002,
          2003,
          2004,
          2005,
          2006,
          2007,
          2008,
          2009,
          2010,
          2011,
          2012,
          2013,
          2014,
          2015,
          2016,
          2017,
          2018,
          2019,
          2020
         ],
         "xaxis": "x",
         "y": [
          72.2,
          73,
          74.3,
          75.4,
          77,
          77.2,
          77.5,
          77.5,
          78,
          78.1,
          78.2,
          78.6,
          78.8,
          78.9,
          79.2,
          79.3,
          79.4,
          79.3,
          80.3,
          80.4,
          81,
          81.2,
          81.4,
          81.5,
          81.8,
          82.3,
          82.1,
          82.3,
          82.8,
          82.4,
          82.7,
          82.7,
          82.8,
          82.9,
          82.3
         ],
         "yaxis": "y"
        },
        {
         "customdata": [
          [
           "United Kingdom"
          ],
          [
           "United Kingdom"
          ],
          [
           "United Kingdom"
          ],
          [
           "United Kingdom"
          ],
          [
           "United Kingdom"
          ],
          [
           "United Kingdom"
          ],
          [
           "United Kingdom"
          ],
          [
           "United Kingdom"
          ],
          [
           "United Kingdom"
          ],
          [
           "United Kingdom"
          ],
          [
           "United Kingdom"
          ],
          [
           "United Kingdom"
          ],
          [
           "United Kingdom"
          ],
          [
           "United Kingdom"
          ],
          [
           "United Kingdom"
          ],
          [
           "United Kingdom"
          ],
          [
           "United Kingdom"
          ],
          [
           "United Kingdom"
          ],
          [
           "United Kingdom"
          ],
          [
           "United Kingdom"
          ],
          [
           "United Kingdom"
          ],
          [
           "United Kingdom"
          ],
          [
           "United Kingdom"
          ],
          [
           "United Kingdom"
          ],
          [
           "United Kingdom"
          ],
          [
           "United Kingdom"
          ],
          [
           "United Kingdom"
          ],
          [
           "United Kingdom"
          ],
          [
           "United Kingdom"
          ],
          [
           "United Kingdom"
          ],
          [
           "United Kingdom"
          ],
          [
           "United Kingdom"
          ],
          [
           "United Kingdom"
          ],
          [
           "United Kingdom"
          ],
          [
           "United Kingdom"
          ],
          [
           "United Kingdom"
          ],
          [
           "United Kingdom"
          ],
          [
           "United Kingdom"
          ],
          [
           "United Kingdom"
          ],
          [
           "United Kingdom"
          ],
          [
           "United Kingdom"
          ],
          [
           "United Kingdom"
          ],
          [
           "United Kingdom"
          ]
         ],
         "hovertemplate": "Life_Expectancy=%{y}<extra></extra>",
         "legendgroup": "United Kingdom",
         "line": {
          "color": "#00cc96",
          "dash": "solid"
         },
         "marker": {
          "symbol": "circle"
         },
         "mode": "lines",
         "name": "United Kingdom",
         "orientation": "v",
         "showlegend": true,
         "type": "scatter",
         "x": [
          1970,
          1971,
          1980,
          1981,
          1982,
          1983,
          1984,
          1985,
          1986,
          1987,
          1988,
          1989,
          1990,
          1991,
          1992,
          1993,
          1994,
          1995,
          1996,
          1997,
          1998,
          1999,
          2000,
          2001,
          2002,
          2003,
          2004,
          2005,
          2006,
          2007,
          2008,
          2009,
          2010,
          2011,
          2012,
          2013,
          2014,
          2015,
          2016,
          2017,
          2018,
          2019,
          2020
         ],
         "xaxis": "x",
         "y": [
          71.9,
          71.9,
          73.2,
          73.8,
          74.1,
          74.3,
          74.5,
          74.7,
          74.8,
          75.2,
          75.3,
          75.4,
          75.7,
          75.9,
          76.3,
          76.2,
          76.8,
          76.7,
          76.9,
          77.2,
          77.3,
          77.5,
          77.9,
          78.2,
          78.3,
          78.4,
          79,
          79.2,
          79.5,
          79.7,
          79.8,
          80.4,
          80.6,
          81,
          81,
          81.1,
          81.4,
          81,
          81.2,
          81.3,
          81.3,
          81.4,
          80.4
         ],
         "yaxis": "y"
        },
        {
         "customdata": [
          [
           "Japan"
          ],
          [
           "Japan"
          ],
          [
           "Japan"
          ],
          [
           "Japan"
          ],
          [
           "Japan"
          ],
          [
           "Japan"
          ],
          [
           "Japan"
          ],
          [
           "Japan"
          ],
          [
           "Japan"
          ],
          [
           "Japan"
          ],
          [
           "Japan"
          ],
          [
           "Japan"
          ],
          [
           "Japan"
          ],
          [
           "Japan"
          ],
          [
           "Japan"
          ],
          [
           "Japan"
          ],
          [
           "Japan"
          ],
          [
           "Japan"
          ],
          [
           "Japan"
          ],
          [
           "Japan"
          ],
          [
           "Japan"
          ],
          [
           "Japan"
          ],
          [
           "Japan"
          ],
          [
           "Japan"
          ],
          [
           "Japan"
          ],
          [
           "Japan"
          ],
          [
           "Japan"
          ],
          [
           "Japan"
          ],
          [
           "Japan"
          ],
          [
           "Japan"
          ],
          [
           "Japan"
          ],
          [
           "Japan"
          ],
          [
           "Japan"
          ],
          [
           "Japan"
          ],
          [
           "Japan"
          ],
          [
           "Japan"
          ],
          [
           "Japan"
          ],
          [
           "Japan"
          ],
          [
           "Japan"
          ],
          [
           "Japan"
          ],
          [
           "Japan"
          ],
          [
           "Japan"
          ],
          [
           "Japan"
          ],
          [
           "Japan"
          ],
          [
           "Japan"
          ],
          [
           "Japan"
          ],
          [
           "Japan"
          ],
          [
           "Japan"
          ],
          [
           "Japan"
          ],
          [
           "Japan"
          ],
          [
           "Japan"
          ]
         ],
         "hovertemplate": "Life_Expectancy=%{y}<extra></extra>",
         "legendgroup": "Japan",
         "line": {
          "color": "#ab63fa",
          "dash": "solid"
         },
         "marker": {
          "symbol": "circle"
         },
         "mode": "lines",
         "name": "Japan",
         "orientation": "v",
         "showlegend": true,
         "type": "scatter",
         "x": [
          1970,
          1971,
          1972,
          1973,
          1974,
          1975,
          1976,
          1977,
          1978,
          1979,
          1980,
          1981,
          1982,
          1983,
          1984,
          1985,
          1986,
          1987,
          1988,
          1989,
          1990,
          1991,
          1992,
          1993,
          1994,
          1995,
          1996,
          1997,
          1998,
          1999,
          2000,
          2001,
          2002,
          2003,
          2004,
          2005,
          2006,
          2007,
          2008,
          2009,
          2010,
          2011,
          2012,
          2013,
          2014,
          2015,
          2016,
          2017,
          2018,
          2019,
          2020
         ],
         "xaxis": "x",
         "y": [
          72,
          72.9,
          73.2,
          73.4,
          73.7,
          74.3,
          74.8,
          75.3,
          75.7,
          76.2,
          76.1,
          76.5,
          76.9,
          77,
          77.4,
          77.6,
          78.1,
          78.5,
          78.4,
          78.8,
          78.9,
          79.1,
          79.2,
          79.4,
          79.8,
          79.6,
          80.3,
          80.5,
          80.6,
          80.5,
          81.2,
          81.5,
          81.8,
          81.8,
          82.1,
          82,
          82.4,
          82.6,
          82.7,
          83,
          82.9,
          82.7,
          83.2,
          83.4,
          83.7,
          83.9,
          84.1,
          84.2,
          84.3,
          84.4,
          84.7
         ],
         "yaxis": "y"
        },
        {
         "customdata": [
          [
           "USA"
          ],
          [
           "USA"
          ],
          [
           "USA"
          ],
          [
           "USA"
          ],
          [
           "USA"
          ],
          [
           "USA"
          ],
          [
           "USA"
          ],
          [
           "USA"
          ],
          [
           "USA"
          ],
          [
           "USA"
          ],
          [
           "USA"
          ],
          [
           "USA"
          ],
          [
           "USA"
          ],
          [
           "USA"
          ],
          [
           "USA"
          ],
          [
           "USA"
          ],
          [
           "USA"
          ],
          [
           "USA"
          ],
          [
           "USA"
          ],
          [
           "USA"
          ],
          [
           "USA"
          ],
          [
           "USA"
          ],
          [
           "USA"
          ],
          [
           "USA"
          ],
          [
           "USA"
          ],
          [
           "USA"
          ],
          [
           "USA"
          ],
          [
           "USA"
          ],
          [
           "USA"
          ],
          [
           "USA"
          ],
          [
           "USA"
          ],
          [
           "USA"
          ],
          [
           "USA"
          ],
          [
           "USA"
          ],
          [
           "USA"
          ],
          [
           "USA"
          ],
          [
           "USA"
          ],
          [
           "USA"
          ],
          [
           "USA"
          ],
          [
           "USA"
          ],
          [
           "USA"
          ],
          [
           "USA"
          ],
          [
           "USA"
          ],
          [
           "USA"
          ],
          [
           "USA"
          ],
          [
           "USA"
          ],
          [
           "USA"
          ],
          [
           "USA"
          ],
          [
           "USA"
          ],
          [
           "USA"
          ],
          [
           "USA"
          ]
         ],
         "hovertemplate": "Life_Expectancy=%{y}<extra></extra>",
         "legendgroup": "USA",
         "line": {
          "color": "#FFA15A",
          "dash": "solid"
         },
         "marker": {
          "symbol": "circle"
         },
         "mode": "lines",
         "name": "USA",
         "orientation": "v",
         "showlegend": true,
         "type": "scatter",
         "x": [
          1970,
          1971,
          1972,
          1973,
          1974,
          1975,
          1976,
          1977,
          1978,
          1979,
          1980,
          1981,
          1982,
          1983,
          1984,
          1985,
          1986,
          1987,
          1988,
          1989,
          1990,
          1991,
          1992,
          1993,
          1994,
          1995,
          1996,
          1997,
          1998,
          1999,
          2000,
          2001,
          2002,
          2003,
          2004,
          2005,
          2006,
          2007,
          2008,
          2009,
          2010,
          2011,
          2012,
          2013,
          2014,
          2015,
          2016,
          2017,
          2018,
          2019,
          2020
         ],
         "xaxis": "x",
         "y": [
          70.9,
          71.2,
          71.2,
          71.4,
          72,
          72.7,
          72.9,
          73.3,
          73.5,
          73.9,
          73.7,
          74.1,
          74.5,
          74.6,
          74.7,
          74.7,
          74.7,
          74.9,
          74.9,
          75.1,
          75.3,
          75.5,
          75.7,
          75.5,
          75.7,
          75.7,
          76.1,
          76.5,
          76.7,
          76.7,
          76.7,
          76.9,
          77,
          77.1,
          77.6,
          77.6,
          77.8,
          78.1,
          78.1,
          78.5,
          78.6,
          78.7,
          78.8,
          78.8,
          78.9,
          78.7,
          78.7,
          78.6,
          78.7,
          78.8,
          77
         ],
         "yaxis": "y"
        },
        {
         "customdata": [
          [
           "Canada"
          ],
          [
           "Canada"
          ],
          [
           "Canada"
          ],
          [
           "Canada"
          ],
          [
           "Canada"
          ],
          [
           "Canada"
          ],
          [
           "Canada"
          ],
          [
           "Canada"
          ],
          [
           "Canada"
          ],
          [
           "Canada"
          ],
          [
           "Canada"
          ],
          [
           "Canada"
          ],
          [
           "Canada"
          ],
          [
           "Canada"
          ],
          [
           "Canada"
          ],
          [
           "Canada"
          ],
          [
           "Canada"
          ],
          [
           "Canada"
          ],
          [
           "Canada"
          ],
          [
           "Canada"
          ],
          [
           "Canada"
          ],
          [
           "Canada"
          ],
          [
           "Canada"
          ],
          [
           "Canada"
          ],
          [
           "Canada"
          ],
          [
           "Canada"
          ],
          [
           "Canada"
          ],
          [
           "Canada"
          ],
          [
           "Canada"
          ],
          [
           "Canada"
          ],
          [
           "Canada"
          ],
          [
           "Canada"
          ],
          [
           "Canada"
          ],
          [
           "Canada"
          ],
          [
           "Canada"
          ],
          [
           "Canada"
          ],
          [
           "Canada"
          ],
          [
           "Canada"
          ],
          [
           "Canada"
          ],
          [
           "Canada"
          ],
          [
           "Canada"
          ],
          [
           "Canada"
          ],
          [
           "Canada"
          ],
          [
           "Canada"
          ]
         ],
         "hovertemplate": "Life_Expectancy=%{y}<extra></extra>",
         "legendgroup": "Canada",
         "line": {
          "color": "#19d3f3",
          "dash": "solid"
         },
         "marker": {
          "symbol": "circle"
         },
         "mode": "lines",
         "name": "Canada",
         "orientation": "v",
         "showlegend": true,
         "type": "scatter",
         "x": [
          1971,
          1976,
          1979,
          1980,
          1981,
          1982,
          1983,
          1984,
          1985,
          1986,
          1987,
          1988,
          1989,
          1990,
          1991,
          1992,
          1993,
          1994,
          1995,
          1996,
          1997,
          1998,
          1999,
          2000,
          2001,
          2002,
          2003,
          2004,
          2005,
          2006,
          2007,
          2008,
          2009,
          2010,
          2011,
          2012,
          2013,
          2014,
          2015,
          2016,
          2017,
          2018,
          2019,
          2020
         ],
         "xaxis": "x",
         "y": [
          72.8,
          73.8,
          75.1,
          75.2,
          75.5,
          75.6,
          75.9,
          76.2,
          76.3,
          76.5,
          76.7,
          76.8,
          77.1,
          77.3,
          77.6,
          77.8,
          77.8,
          77.9,
          78,
          78.2,
          78.3,
          78.6,
          78.8,
          79.1,
          79.3,
          79.5,
          79.6,
          79.9,
          80,
          80.4,
          80.5,
          80.7,
          80.9,
          81.2,
          81.4,
          81.6,
          81.7,
          81.8,
          81.9,
          82,
          81.9,
          82,
          82.2,
          81.7
         ],
         "yaxis": "y"
        }
       ],
       "layout": {
        "legend": {
         "title": {
          "text": "Country"
         },
         "tracegroupgap": 0
        },
        "template": {
         "data": {
          "bar": [
           {
            "error_x": {
             "color": "#2a3f5f"
            },
            "error_y": {
             "color": "#2a3f5f"
            },
            "marker": {
             "line": {
              "color": "#E5ECF6",
              "width": 0.5
             },
             "pattern": {
              "fillmode": "overlay",
              "size": 10,
              "solidity": 0.2
             }
            },
            "type": "bar"
           }
          ],
          "barpolar": [
           {
            "marker": {
             "line": {
              "color": "#E5ECF6",
              "width": 0.5
             },
             "pattern": {
              "fillmode": "overlay",
              "size": 10,
              "solidity": 0.2
             }
            },
            "type": "barpolar"
           }
          ],
          "carpet": [
           {
            "aaxis": {
             "endlinecolor": "#2a3f5f",
             "gridcolor": "white",
             "linecolor": "white",
             "minorgridcolor": "white",
             "startlinecolor": "#2a3f5f"
            },
            "baxis": {
             "endlinecolor": "#2a3f5f",
             "gridcolor": "white",
             "linecolor": "white",
             "minorgridcolor": "white",
             "startlinecolor": "#2a3f5f"
            },
            "type": "carpet"
           }
          ],
          "choropleth": [
           {
            "colorbar": {
             "outlinewidth": 0,
             "ticks": ""
            },
            "type": "choropleth"
           }
          ],
          "contour": [
           {
            "colorbar": {
             "outlinewidth": 0,
             "ticks": ""
            },
            "colorscale": [
             [
              0,
              "#0d0887"
             ],
             [
              0.1111111111111111,
              "#46039f"
             ],
             [
              0.2222222222222222,
              "#7201a8"
             ],
             [
              0.3333333333333333,
              "#9c179e"
             ],
             [
              0.4444444444444444,
              "#bd3786"
             ],
             [
              0.5555555555555556,
              "#d8576b"
             ],
             [
              0.6666666666666666,
              "#ed7953"
             ],
             [
              0.7777777777777778,
              "#fb9f3a"
             ],
             [
              0.8888888888888888,
              "#fdca26"
             ],
             [
              1,
              "#f0f921"
             ]
            ],
            "type": "contour"
           }
          ],
          "contourcarpet": [
           {
            "colorbar": {
             "outlinewidth": 0,
             "ticks": ""
            },
            "type": "contourcarpet"
           }
          ],
          "heatmap": [
           {
            "colorbar": {
             "outlinewidth": 0,
             "ticks": ""
            },
            "colorscale": [
             [
              0,
              "#0d0887"
             ],
             [
              0.1111111111111111,
              "#46039f"
             ],
             [
              0.2222222222222222,
              "#7201a8"
             ],
             [
              0.3333333333333333,
              "#9c179e"
             ],
             [
              0.4444444444444444,
              "#bd3786"
             ],
             [
              0.5555555555555556,
              "#d8576b"
             ],
             [
              0.6666666666666666,
              "#ed7953"
             ],
             [
              0.7777777777777778,
              "#fb9f3a"
             ],
             [
              0.8888888888888888,
              "#fdca26"
             ],
             [
              1,
              "#f0f921"
             ]
            ],
            "type": "heatmap"
           }
          ],
          "heatmapgl": [
           {
            "colorbar": {
             "outlinewidth": 0,
             "ticks": ""
            },
            "colorscale": [
             [
              0,
              "#0d0887"
             ],
             [
              0.1111111111111111,
              "#46039f"
             ],
             [
              0.2222222222222222,
              "#7201a8"
             ],
             [
              0.3333333333333333,
              "#9c179e"
             ],
             [
              0.4444444444444444,
              "#bd3786"
             ],
             [
              0.5555555555555556,
              "#d8576b"
             ],
             [
              0.6666666666666666,
              "#ed7953"
             ],
             [
              0.7777777777777778,
              "#fb9f3a"
             ],
             [
              0.8888888888888888,
              "#fdca26"
             ],
             [
              1,
              "#f0f921"
             ]
            ],
            "type": "heatmapgl"
           }
          ],
          "histogram": [
           {
            "marker": {
             "pattern": {
              "fillmode": "overlay",
              "size": 10,
              "solidity": 0.2
             }
            },
            "type": "histogram"
           }
          ],
          "histogram2d": [
           {
            "colorbar": {
             "outlinewidth": 0,
             "ticks": ""
            },
            "colorscale": [
             [
              0,
              "#0d0887"
             ],
             [
              0.1111111111111111,
              "#46039f"
             ],
             [
              0.2222222222222222,
              "#7201a8"
             ],
             [
              0.3333333333333333,
              "#9c179e"
             ],
             [
              0.4444444444444444,
              "#bd3786"
             ],
             [
              0.5555555555555556,
              "#d8576b"
             ],
             [
              0.6666666666666666,
              "#ed7953"
             ],
             [
              0.7777777777777778,
              "#fb9f3a"
             ],
             [
              0.8888888888888888,
              "#fdca26"
             ],
             [
              1,
              "#f0f921"
             ]
            ],
            "type": "histogram2d"
           }
          ],
          "histogram2dcontour": [
           {
            "colorbar": {
             "outlinewidth": 0,
             "ticks": ""
            },
            "colorscale": [
             [
              0,
              "#0d0887"
             ],
             [
              0.1111111111111111,
              "#46039f"
             ],
             [
              0.2222222222222222,
              "#7201a8"
             ],
             [
              0.3333333333333333,
              "#9c179e"
             ],
             [
              0.4444444444444444,
              "#bd3786"
             ],
             [
              0.5555555555555556,
              "#d8576b"
             ],
             [
              0.6666666666666666,
              "#ed7953"
             ],
             [
              0.7777777777777778,
              "#fb9f3a"
             ],
             [
              0.8888888888888888,
              "#fdca26"
             ],
             [
              1,
              "#f0f921"
             ]
            ],
            "type": "histogram2dcontour"
           }
          ],
          "mesh3d": [
           {
            "colorbar": {
             "outlinewidth": 0,
             "ticks": ""
            },
            "type": "mesh3d"
           }
          ],
          "parcoords": [
           {
            "line": {
             "colorbar": {
              "outlinewidth": 0,
              "ticks": ""
             }
            },
            "type": "parcoords"
           }
          ],
          "pie": [
           {
            "automargin": true,
            "type": "pie"
           }
          ],
          "scatter": [
           {
            "fillpattern": {
             "fillmode": "overlay",
             "size": 10,
             "solidity": 0.2
            },
            "type": "scatter"
           }
          ],
          "scatter3d": [
           {
            "line": {
             "colorbar": {
              "outlinewidth": 0,
              "ticks": ""
             }
            },
            "marker": {
             "colorbar": {
              "outlinewidth": 0,
              "ticks": ""
             }
            },
            "type": "scatter3d"
           }
          ],
          "scattercarpet": [
           {
            "marker": {
             "colorbar": {
              "outlinewidth": 0,
              "ticks": ""
             }
            },
            "type": "scattercarpet"
           }
          ],
          "scattergeo": [
           {
            "marker": {
             "colorbar": {
              "outlinewidth": 0,
              "ticks": ""
             }
            },
            "type": "scattergeo"
           }
          ],
          "scattergl": [
           {
            "marker": {
             "colorbar": {
              "outlinewidth": 0,
              "ticks": ""
             }
            },
            "type": "scattergl"
           }
          ],
          "scattermapbox": [
           {
            "marker": {
             "colorbar": {
              "outlinewidth": 0,
              "ticks": ""
             }
            },
            "type": "scattermapbox"
           }
          ],
          "scatterpolar": [
           {
            "marker": {
             "colorbar": {
              "outlinewidth": 0,
              "ticks": ""
             }
            },
            "type": "scatterpolar"
           }
          ],
          "scatterpolargl": [
           {
            "marker": {
             "colorbar": {
              "outlinewidth": 0,
              "ticks": ""
             }
            },
            "type": "scatterpolargl"
           }
          ],
          "scatterternary": [
           {
            "marker": {
             "colorbar": {
              "outlinewidth": 0,
              "ticks": ""
             }
            },
            "type": "scatterternary"
           }
          ],
          "surface": [
           {
            "colorbar": {
             "outlinewidth": 0,
             "ticks": ""
            },
            "colorscale": [
             [
              0,
              "#0d0887"
             ],
             [
              0.1111111111111111,
              "#46039f"
             ],
             [
              0.2222222222222222,
              "#7201a8"
             ],
             [
              0.3333333333333333,
              "#9c179e"
             ],
             [
              0.4444444444444444,
              "#bd3786"
             ],
             [
              0.5555555555555556,
              "#d8576b"
             ],
             [
              0.6666666666666666,
              "#ed7953"
             ],
             [
              0.7777777777777778,
              "#fb9f3a"
             ],
             [
              0.8888888888888888,
              "#fdca26"
             ],
             [
              1,
              "#f0f921"
             ]
            ],
            "type": "surface"
           }
          ],
          "table": [
           {
            "cells": {
             "fill": {
              "color": "#EBF0F8"
             },
             "line": {
              "color": "white"
             }
            },
            "header": {
             "fill": {
              "color": "#C8D4E3"
             },
             "line": {
              "color": "white"
             }
            },
            "type": "table"
           }
          ]
         },
         "layout": {
          "annotationdefaults": {
           "arrowcolor": "#2a3f5f",
           "arrowhead": 0,
           "arrowwidth": 1
          },
          "autotypenumbers": "strict",
          "coloraxis": {
           "colorbar": {
            "outlinewidth": 0,
            "ticks": ""
           }
          },
          "colorscale": {
           "diverging": [
            [
             0,
             "#8e0152"
            ],
            [
             0.1,
             "#c51b7d"
            ],
            [
             0.2,
             "#de77ae"
            ],
            [
             0.3,
             "#f1b6da"
            ],
            [
             0.4,
             "#fde0ef"
            ],
            [
             0.5,
             "#f7f7f7"
            ],
            [
             0.6,
             "#e6f5d0"
            ],
            [
             0.7,
             "#b8e186"
            ],
            [
             0.8,
             "#7fbc41"
            ],
            [
             0.9,
             "#4d9221"
            ],
            [
             1,
             "#276419"
            ]
           ],
           "sequential": [
            [
             0,
             "#0d0887"
            ],
            [
             0.1111111111111111,
             "#46039f"
            ],
            [
             0.2222222222222222,
             "#7201a8"
            ],
            [
             0.3333333333333333,
             "#9c179e"
            ],
            [
             0.4444444444444444,
             "#bd3786"
            ],
            [
             0.5555555555555556,
             "#d8576b"
            ],
            [
             0.6666666666666666,
             "#ed7953"
            ],
            [
             0.7777777777777778,
             "#fb9f3a"
            ],
            [
             0.8888888888888888,
             "#fdca26"
            ],
            [
             1,
             "#f0f921"
            ]
           ],
           "sequentialminus": [
            [
             0,
             "#0d0887"
            ],
            [
             0.1111111111111111,
             "#46039f"
            ],
            [
             0.2222222222222222,
             "#7201a8"
            ],
            [
             0.3333333333333333,
             "#9c179e"
            ],
            [
             0.4444444444444444,
             "#bd3786"
            ],
            [
             0.5555555555555556,
             "#d8576b"
            ],
            [
             0.6666666666666666,
             "#ed7953"
            ],
            [
             0.7777777777777778,
             "#fb9f3a"
            ],
            [
             0.8888888888888888,
             "#fdca26"
            ],
            [
             1,
             "#f0f921"
            ]
           ]
          },
          "colorway": [
           "#636efa",
           "#EF553B",
           "#00cc96",
           "#ab63fa",
           "#FFA15A",
           "#19d3f3",
           "#FF6692",
           "#B6E880",
           "#FF97FF",
           "#FECB52"
          ],
          "font": {
           "color": "#2a3f5f"
          },
          "geo": {
           "bgcolor": "white",
           "lakecolor": "white",
           "landcolor": "#E5ECF6",
           "showlakes": true,
           "showland": true,
           "subunitcolor": "white"
          },
          "hoverlabel": {
           "align": "left"
          },
          "hovermode": "closest",
          "mapbox": {
           "style": "light"
          },
          "paper_bgcolor": "white",
          "plot_bgcolor": "#E5ECF6",
          "polar": {
           "angularaxis": {
            "gridcolor": "white",
            "linecolor": "white",
            "ticks": ""
           },
           "bgcolor": "#E5ECF6",
           "radialaxis": {
            "gridcolor": "white",
            "linecolor": "white",
            "ticks": ""
           }
          },
          "scene": {
           "xaxis": {
            "backgroundcolor": "#E5ECF6",
            "gridcolor": "white",
            "gridwidth": 2,
            "linecolor": "white",
            "showbackground": true,
            "ticks": "",
            "zerolinecolor": "white"
           },
           "yaxis": {
            "backgroundcolor": "#E5ECF6",
            "gridcolor": "white",
            "gridwidth": 2,
            "linecolor": "white",
            "showbackground": true,
            "ticks": "",
            "zerolinecolor": "white"
           },
           "zaxis": {
            "backgroundcolor": "#E5ECF6",
            "gridcolor": "white",
            "gridwidth": 2,
            "linecolor": "white",
            "showbackground": true,
            "ticks": "",
            "zerolinecolor": "white"
           }
          },
          "shapedefaults": {
           "line": {
            "color": "#2a3f5f"
           }
          },
          "ternary": {
           "aaxis": {
            "gridcolor": "white",
            "linecolor": "white",
            "ticks": ""
           },
           "baxis": {
            "gridcolor": "white",
            "linecolor": "white",
            "ticks": ""
           },
           "bgcolor": "#E5ECF6",
           "caxis": {
            "gridcolor": "white",
            "linecolor": "white",
            "ticks": ""
           }
          },
          "title": {
           "x": 0.05
          },
          "xaxis": {
           "automargin": true,
           "gridcolor": "white",
           "linecolor": "white",
           "ticks": "",
           "title": {
            "standoff": 15
           },
           "zerolinecolor": "white",
           "zerolinewidth": 2
          },
          "yaxis": {
           "automargin": true,
           "gridcolor": "white",
           "linecolor": "white",
           "ticks": "",
           "title": {
            "standoff": 15
           },
           "zerolinecolor": "white",
           "zerolinewidth": 2
          }
         }
        },
        "title": {
         "text": "Life expectancy in Canada"
        },
        "xaxis": {
         "anchor": "y",
         "domain": [
          0,
          1
         ],
         "title": {
          "text": "Year"
         }
        },
        "yaxis": {
         "anchor": "x",
         "domain": [
          0,
          1
         ],
         "title": {
          "text": "Life_Expectancy"
         }
        }
       }
      }
     },
     "metadata": {},
     "output_type": "display_data"
    }
   ],
   "source": [
    "\n",
    "\n",
    "fig = px.line(\n",
    "    df1, \n",
    "    x=\"Year\", \n",
    "    y=\"Life_Expectancy\", \n",
    "    title='Life expectancy in Canada', \n",
    "    color='Country',\n",
    "    # hover_name = 'Country',\n",
    "    hover_data = {'Country':False,\n",
    "                  'Year':False}\n",
    ")\n",
    "# fig.update_traces(mode=\"markers+lines\", hovertemplate=None)\n",
    "# fig.update_layout(hovermode=\"x unified\")\n",
    "fig\n"
   ]
  },
  {
   "cell_type": "markdown",
   "metadata": {},
   "source": [
    "# df2"
   ]
  },
  {
   "cell_type": "code",
   "execution_count": 30,
   "metadata": {},
   "outputs": [
    {
     "data": {
      "text/html": [
       "<div>\n",
       "<style scoped>\n",
       "    .dataframe tbody tr th:only-of-type {\n",
       "        vertical-align: middle;\n",
       "    }\n",
       "\n",
       "    .dataframe tbody tr th {\n",
       "        vertical-align: top;\n",
       "    }\n",
       "\n",
       "    .dataframe thead th {\n",
       "        text-align: right;\n",
       "    }\n",
       "</style>\n",
       "<table border=\"1\" class=\"dataframe\">\n",
       "  <thead>\n",
       "    <tr style=\"text-align: right;\">\n",
       "      <th></th>\n",
       "      <th>Country</th>\n",
       "      <th>Density\\n(P/Km2)</th>\n",
       "      <th>Abbreviation</th>\n",
       "      <th>Agricultural Land( %)</th>\n",
       "      <th>Land Area(Km2)</th>\n",
       "      <th>Armed Forces size</th>\n",
       "      <th>Birth Rate</th>\n",
       "      <th>Calling Code</th>\n",
       "      <th>Capital/Major City</th>\n",
       "      <th>Co2-Emissions</th>\n",
       "      <th>...</th>\n",
       "      <th>Out of pocket health expenditure</th>\n",
       "      <th>Physicians per thousand</th>\n",
       "      <th>Population</th>\n",
       "      <th>Population: Labor force participation (%)</th>\n",
       "      <th>Tax revenue (%)</th>\n",
       "      <th>Total tax rate</th>\n",
       "      <th>Unemployment rate</th>\n",
       "      <th>Urban_population</th>\n",
       "      <th>Latitude</th>\n",
       "      <th>Longitude</th>\n",
       "    </tr>\n",
       "  </thead>\n",
       "  <tbody>\n",
       "    <tr>\n",
       "      <th>0</th>\n",
       "      <td>Afghanistan</td>\n",
       "      <td>60</td>\n",
       "      <td>AF</td>\n",
       "      <td>58.10%</td>\n",
       "      <td>652,230</td>\n",
       "      <td>323,000</td>\n",
       "      <td>32.49</td>\n",
       "      <td>93.0</td>\n",
       "      <td>Kabul</td>\n",
       "      <td>8,672</td>\n",
       "      <td>...</td>\n",
       "      <td>78.40%</td>\n",
       "      <td>0.28</td>\n",
       "      <td>38,041,754</td>\n",
       "      <td>48.90%</td>\n",
       "      <td>9.30%</td>\n",
       "      <td>71.40%</td>\n",
       "      <td>11.12%</td>\n",
       "      <td>9,797,273</td>\n",
       "      <td>33.939110</td>\n",
       "      <td>67.709953</td>\n",
       "    </tr>\n",
       "    <tr>\n",
       "      <th>1</th>\n",
       "      <td>Albania</td>\n",
       "      <td>105</td>\n",
       "      <td>AL</td>\n",
       "      <td>43.10%</td>\n",
       "      <td>28,748</td>\n",
       "      <td>9,000</td>\n",
       "      <td>11.78</td>\n",
       "      <td>355.0</td>\n",
       "      <td>Tirana</td>\n",
       "      <td>4,536</td>\n",
       "      <td>...</td>\n",
       "      <td>56.90%</td>\n",
       "      <td>1.20</td>\n",
       "      <td>2,854,191</td>\n",
       "      <td>55.70%</td>\n",
       "      <td>18.60%</td>\n",
       "      <td>36.60%</td>\n",
       "      <td>12.33%</td>\n",
       "      <td>1,747,593</td>\n",
       "      <td>41.153332</td>\n",
       "      <td>20.168331</td>\n",
       "    </tr>\n",
       "    <tr>\n",
       "      <th>2</th>\n",
       "      <td>Algeria</td>\n",
       "      <td>18</td>\n",
       "      <td>DZ</td>\n",
       "      <td>17.40%</td>\n",
       "      <td>2,381,741</td>\n",
       "      <td>317,000</td>\n",
       "      <td>24.28</td>\n",
       "      <td>213.0</td>\n",
       "      <td>Algiers</td>\n",
       "      <td>150,006</td>\n",
       "      <td>...</td>\n",
       "      <td>28.10%</td>\n",
       "      <td>1.72</td>\n",
       "      <td>43,053,054</td>\n",
       "      <td>41.20%</td>\n",
       "      <td>37.20%</td>\n",
       "      <td>66.10%</td>\n",
       "      <td>11.70%</td>\n",
       "      <td>31,510,100</td>\n",
       "      <td>28.033886</td>\n",
       "      <td>1.659626</td>\n",
       "    </tr>\n",
       "    <tr>\n",
       "      <th>3</th>\n",
       "      <td>Andorra</td>\n",
       "      <td>164</td>\n",
       "      <td>AD</td>\n",
       "      <td>40.00%</td>\n",
       "      <td>468</td>\n",
       "      <td>NaN</td>\n",
       "      <td>7.20</td>\n",
       "      <td>376.0</td>\n",
       "      <td>Andorra la Vella</td>\n",
       "      <td>469</td>\n",
       "      <td>...</td>\n",
       "      <td>36.40%</td>\n",
       "      <td>3.33</td>\n",
       "      <td>77,142</td>\n",
       "      <td>NaN</td>\n",
       "      <td>NaN</td>\n",
       "      <td>NaN</td>\n",
       "      <td>NaN</td>\n",
       "      <td>67,873</td>\n",
       "      <td>42.506285</td>\n",
       "      <td>1.521801</td>\n",
       "    </tr>\n",
       "    <tr>\n",
       "      <th>4</th>\n",
       "      <td>Angola</td>\n",
       "      <td>26</td>\n",
       "      <td>AO</td>\n",
       "      <td>47.50%</td>\n",
       "      <td>1,246,700</td>\n",
       "      <td>117,000</td>\n",
       "      <td>40.73</td>\n",
       "      <td>244.0</td>\n",
       "      <td>Luanda</td>\n",
       "      <td>34,693</td>\n",
       "      <td>...</td>\n",
       "      <td>33.40%</td>\n",
       "      <td>0.21</td>\n",
       "      <td>31,825,295</td>\n",
       "      <td>77.50%</td>\n",
       "      <td>9.20%</td>\n",
       "      <td>49.10%</td>\n",
       "      <td>6.89%</td>\n",
       "      <td>21,061,025</td>\n",
       "      <td>-11.202692</td>\n",
       "      <td>17.873887</td>\n",
       "    </tr>\n",
       "  </tbody>\n",
       "</table>\n",
       "<p>5 rows × 35 columns</p>\n",
       "</div>"
      ],
      "text/plain": [
       "       Country Density\\n(P/Km2) Abbreviation Agricultural Land( %)  \\\n",
       "0  Afghanistan               60           AF                58.10%   \n",
       "1      Albania              105           AL                43.10%   \n",
       "2      Algeria               18           DZ                17.40%   \n",
       "3      Andorra              164           AD                40.00%   \n",
       "4       Angola               26           AO                47.50%   \n",
       "\n",
       "  Land Area(Km2) Armed Forces size  Birth Rate  Calling Code  \\\n",
       "0        652,230           323,000       32.49          93.0   \n",
       "1         28,748             9,000       11.78         355.0   \n",
       "2      2,381,741           317,000       24.28         213.0   \n",
       "3            468               NaN        7.20         376.0   \n",
       "4      1,246,700           117,000       40.73         244.0   \n",
       "\n",
       "  Capital/Major City Co2-Emissions  ... Out of pocket health expenditure  \\\n",
       "0              Kabul         8,672  ...                           78.40%   \n",
       "1             Tirana         4,536  ...                           56.90%   \n",
       "2            Algiers       150,006  ...                           28.10%   \n",
       "3   Andorra la Vella           469  ...                           36.40%   \n",
       "4             Luanda        34,693  ...                           33.40%   \n",
       "\n",
       "  Physicians per thousand  Population  \\\n",
       "0                    0.28  38,041,754   \n",
       "1                    1.20   2,854,191   \n",
       "2                    1.72  43,053,054   \n",
       "3                    3.33      77,142   \n",
       "4                    0.21  31,825,295   \n",
       "\n",
       "   Population: Labor force participation (%) Tax revenue (%) Total tax rate  \\\n",
       "0                                     48.90%           9.30%         71.40%   \n",
       "1                                     55.70%          18.60%         36.60%   \n",
       "2                                     41.20%          37.20%         66.10%   \n",
       "3                                        NaN             NaN            NaN   \n",
       "4                                     77.50%           9.20%         49.10%   \n",
       "\n",
       "  Unemployment rate Urban_population   Latitude  Longitude  \n",
       "0            11.12%        9,797,273  33.939110  67.709953  \n",
       "1            12.33%        1,747,593  41.153332  20.168331  \n",
       "2            11.70%       31,510,100  28.033886   1.659626  \n",
       "3               NaN           67,873  42.506285   1.521801  \n",
       "4             6.89%       21,061,025 -11.202692  17.873887  \n",
       "\n",
       "[5 rows x 35 columns]"
      ]
     },
     "execution_count": 30,
     "metadata": {},
     "output_type": "execute_result"
    }
   ],
   "source": [
    "df2 = pd.read_csv('data/world-data-2023.csv')\n",
    "df2['Country'] = df2['Country'].replace({'United States':'USA'})\n",
    "df2.head()\n"
   ]
  },
  {
   "cell_type": "code",
   "execution_count": 31,
   "metadata": {},
   "outputs": [
    {
     "data": {
      "text/html": [
       "<div>\n",
       "<style scoped>\n",
       "    .dataframe tbody tr th:only-of-type {\n",
       "        vertical-align: middle;\n",
       "    }\n",
       "\n",
       "    .dataframe tbody tr th {\n",
       "        vertical-align: top;\n",
       "    }\n",
       "\n",
       "    .dataframe thead th {\n",
       "        text-align: right;\n",
       "    }\n",
       "</style>\n",
       "<table border=\"1\" class=\"dataframe\">\n",
       "  <thead>\n",
       "    <tr style=\"text-align: right;\">\n",
       "      <th></th>\n",
       "      <th>Country</th>\n",
       "      <th>Density\\n(P/Km2)</th>\n",
       "      <th>Abbreviation</th>\n",
       "      <th>Agricultural Land( %)</th>\n",
       "      <th>Land Area(Km2)</th>\n",
       "      <th>Armed Forces size</th>\n",
       "      <th>Birth Rate</th>\n",
       "      <th>Calling Code</th>\n",
       "      <th>Capital/Major City</th>\n",
       "      <th>Co2-Emissions</th>\n",
       "      <th>...</th>\n",
       "      <th>Out of pocket health expenditure</th>\n",
       "      <th>Physicians per thousand</th>\n",
       "      <th>Population</th>\n",
       "      <th>Population: Labor force participation (%)</th>\n",
       "      <th>Tax revenue (%)</th>\n",
       "      <th>Total tax rate</th>\n",
       "      <th>Unemployment rate</th>\n",
       "      <th>Urban_population</th>\n",
       "      <th>Latitude</th>\n",
       "      <th>Longitude</th>\n",
       "    </tr>\n",
       "  </thead>\n",
       "  <tbody>\n",
       "    <tr>\n",
       "      <th>184</th>\n",
       "      <td>United Arab Emirates</td>\n",
       "      <td>118</td>\n",
       "      <td>AE</td>\n",
       "      <td>5.50%</td>\n",
       "      <td>83,600</td>\n",
       "      <td>63,000</td>\n",
       "      <td>10.33</td>\n",
       "      <td>971.0</td>\n",
       "      <td>Abu Dhabi</td>\n",
       "      <td>206,324</td>\n",
       "      <td>...</td>\n",
       "      <td>17.80%</td>\n",
       "      <td>2.53</td>\n",
       "      <td>9,770,529</td>\n",
       "      <td>82.10%</td>\n",
       "      <td>0.10%</td>\n",
       "      <td>15.90%</td>\n",
       "      <td>2.35%</td>\n",
       "      <td>8,479,744</td>\n",
       "      <td>23.424076</td>\n",
       "      <td>53.847818</td>\n",
       "    </tr>\n",
       "    <tr>\n",
       "      <th>185</th>\n",
       "      <td>United Kingdom</td>\n",
       "      <td>281</td>\n",
       "      <td>GB</td>\n",
       "      <td>71.70%</td>\n",
       "      <td>243,610</td>\n",
       "      <td>148,000</td>\n",
       "      <td>11.00</td>\n",
       "      <td>44.0</td>\n",
       "      <td>London</td>\n",
       "      <td>379,025</td>\n",
       "      <td>...</td>\n",
       "      <td>14.80%</td>\n",
       "      <td>2.81</td>\n",
       "      <td>66,834,405</td>\n",
       "      <td>62.80%</td>\n",
       "      <td>25.50%</td>\n",
       "      <td>30.60%</td>\n",
       "      <td>3.85%</td>\n",
       "      <td>55,908,316</td>\n",
       "      <td>55.378051</td>\n",
       "      <td>-3.435973</td>\n",
       "    </tr>\n",
       "  </tbody>\n",
       "</table>\n",
       "<p>2 rows × 35 columns</p>\n",
       "</div>"
      ],
      "text/plain": [
       "                  Country Density\\n(P/Km2) Abbreviation Agricultural Land( %)  \\\n",
       "184  United Arab Emirates              118           AE                 5.50%   \n",
       "185        United Kingdom              281           GB                71.70%   \n",
       "\n",
       "    Land Area(Km2) Armed Forces size  Birth Rate  Calling Code  \\\n",
       "184         83,600            63,000       10.33         971.0   \n",
       "185        243,610           148,000       11.00          44.0   \n",
       "\n",
       "    Capital/Major City Co2-Emissions  ... Out of pocket health expenditure  \\\n",
       "184          Abu Dhabi       206,324  ...                           17.80%   \n",
       "185             London       379,025  ...                           14.80%   \n",
       "\n",
       "    Physicians per thousand  Population  \\\n",
       "184                    2.53   9,770,529   \n",
       "185                    2.81  66,834,405   \n",
       "\n",
       "     Population: Labor force participation (%) Tax revenue (%) Total tax rate  \\\n",
       "184                                     82.10%           0.10%         15.90%   \n",
       "185                                     62.80%          25.50%         30.60%   \n",
       "\n",
       "    Unemployment rate Urban_population   Latitude  Longitude  \n",
       "184             2.35%        8,479,744  23.424076  53.847818  \n",
       "185             3.85%       55,908,316  55.378051  -3.435973  \n",
       "\n",
       "[2 rows x 35 columns]"
      ]
     },
     "execution_count": 31,
     "metadata": {},
     "output_type": "execute_result"
    }
   ],
   "source": [
    "df2[df2['Country'].str.contains('Uni')]"
   ]
  },
  {
   "cell_type": "code",
   "execution_count": 32,
   "metadata": {},
   "outputs": [
    {
     "name": "stdout",
     "output_type": "stream",
     "text": [
      "['Canada', 'France', 'Germany', 'Japan', 'United Kingdom', 'USA']\n"
     ]
    }
   ],
   "source": [
    "list_countries = df1['Country'].unique()\n",
    "print( [i for i in df2['Country'].unique() if i in list_countries] )"
   ]
  },
  {
   "cell_type": "code",
   "execution_count": 34,
   "metadata": {},
   "outputs": [
    {
     "data": {
      "image/png": "[encoded data removed]",
      "text/plain": [
       "<Figure size 640x480 with 1 Axes>"
      ]
     },
     "metadata": {},
     "output_type": "display_data"
    }
   ],
   "source": [
    "sns.lineplot(\n",
    "    x=df1['Year'], y=df1['Life_Expectancy'],\n",
    "    hue=df1['Country']\n",
    ")\n",
    "sns.set_style('whitegrid', {\n",
    "    'axes.grid': False,\n",
    "    'axes.spines.left': False, \n",
    "    'axes.spines.right': False,\n",
    "    'axes.spines.top': False,\n",
    "    'axes.spines.bottom': False\n",
    "})"
   ]
  },
  {
   "cell_type": "code",
   "execution_count": 37,
   "metadata": {},
   "outputs": [
    {
     "data": {
      "text/plain": [
       "array(['Germany', 'France', 'United Kingdom', 'Japan', 'USA', 'Canada'],\n",
       "      dtype=object)"
      ]
     },
     "execution_count": 37,
     "metadata": {},
     "output_type": "execute_result"
    }
   ],
   "source": [
    "list_countries"
   ]
  },
  {
   "cell_type": "code",
   "execution_count": 39,
   "metadata": {},
   "outputs": [
    {
     "data": {
      "text/html": [
       "<div>\n",
       "<style scoped>\n",
       "    .dataframe tbody tr th:only-of-type {\n",
       "        vertical-align: middle;\n",
       "    }\n",
       "\n",
       "    .dataframe tbody tr th {\n",
       "        vertical-align: top;\n",
       "    }\n",
       "\n",
       "    .dataframe thead th {\n",
       "        text-align: right;\n",
       "    }\n",
       "</style>\n",
       "<table border=\"1\" class=\"dataframe\">\n",
       "  <thead>\n",
       "    <tr style=\"text-align: right;\">\n",
       "      <th></th>\n",
       "      <th>Country</th>\n",
       "      <th>Density\\n(P/Km2)</th>\n",
       "      <th>Abbreviation</th>\n",
       "      <th>Agricultural Land( %)</th>\n",
       "      <th>Land Area(Km2)</th>\n",
       "      <th>Armed Forces size</th>\n",
       "      <th>Birth Rate</th>\n",
       "      <th>Calling Code</th>\n",
       "      <th>Capital/Major City</th>\n",
       "      <th>Co2-Emissions</th>\n",
       "      <th>...</th>\n",
       "      <th>Out of pocket health expenditure</th>\n",
       "      <th>Physicians per thousand</th>\n",
       "      <th>Population</th>\n",
       "      <th>Population: Labor force participation (%)</th>\n",
       "      <th>Tax revenue (%)</th>\n",
       "      <th>Total tax rate</th>\n",
       "      <th>Unemployment rate</th>\n",
       "      <th>Urban_population</th>\n",
       "      <th>Latitude</th>\n",
       "      <th>Longitude</th>\n",
       "    </tr>\n",
       "  </thead>\n",
       "  <tbody>\n",
       "    <tr>\n",
       "      <th>32</th>\n",
       "      <td>Canada</td>\n",
       "      <td>4</td>\n",
       "      <td>CA</td>\n",
       "      <td>6.90%</td>\n",
       "      <td>9,984,670</td>\n",
       "      <td>72,000</td>\n",
       "      <td>10.1</td>\n",
       "      <td>1.0</td>\n",
       "      <td>Ottawa</td>\n",
       "      <td>544,894</td>\n",
       "      <td>...</td>\n",
       "      <td>14.60%</td>\n",
       "      <td>2.61</td>\n",
       "      <td>36,991,981</td>\n",
       "      <td>65.10%</td>\n",
       "      <td>12.80%</td>\n",
       "      <td>24.50%</td>\n",
       "      <td>5.56%</td>\n",
       "      <td>30,628,482</td>\n",
       "      <td>56.130366</td>\n",
       "      <td>-106.346771</td>\n",
       "    </tr>\n",
       "  </tbody>\n",
       "</table>\n",
       "<p>1 rows × 35 columns</p>\n",
       "</div>"
      ],
      "text/plain": [
       "   Country Density\\n(P/Km2) Abbreviation Agricultural Land( %) Land Area(Km2)  \\\n",
       "32  Canada                4           CA                 6.90%      9,984,670   \n",
       "\n",
       "   Armed Forces size  Birth Rate  Calling Code Capital/Major City  \\\n",
       "32            72,000        10.1           1.0             Ottawa   \n",
       "\n",
       "   Co2-Emissions  ... Out of pocket health expenditure  \\\n",
       "32       544,894  ...                           14.60%   \n",
       "\n",
       "   Physicians per thousand  Population  \\\n",
       "32                    2.61  36,991,981   \n",
       "\n",
       "    Population: Labor force participation (%) Tax revenue (%) Total tax rate  \\\n",
       "32                                     65.10%          12.80%         24.50%   \n",
       "\n",
       "   Unemployment rate Urban_population   Latitude   Longitude  \n",
       "32             5.56%       30,628,482  56.130366 -106.346771  \n",
       "\n",
       "[1 rows x 35 columns]"
      ]
     },
     "execution_count": 39,
     "metadata": {},
     "output_type": "execute_result"
    }
   ],
   "source": [
    "df2[df2['Country']=='Canada']"
   ]
  },
  {
   "cell_type": "code",
   "execution_count": 38,
   "metadata": {},
   "outputs": [
    {
     "data": {
      "application/vnd.plotly.v1+json": {
       "config": {
        "plotlyServerURL": "https://plot.ly"
       },
       "data": [
        {
         "alignmentgroup": "True",
         "hovertemplate": "Country=%{x}<br>Population=%{y}<extra></extra>",
         "legendgroup": "",
         "marker": {
          "color": "#636efa",
          "pattern": {
           "shape": ""
          }
         },
         "name": "",
         "offsetgroup": "",
         "orientation": "v",
         "showlegend": false,
         "textposition": "auto",
         "type": "bar",
         "x": [
          "Canada",
          "France",
          "Germany",
          "Japan",
          "United Kingdom",
          "USA"
         ],
         "xaxis": "x",
         "y": [
          "36,991,981",
          "67,059,887",
          "83,132,799",
          "126,226,568",
          "66,834,405",
          "328,239,523"
         ],
         "yaxis": "y"
        }
       ],
       "layout": {
        "barmode": "relative",
        "legend": {
         "tracegroupgap": 0
        },
        "margin": {
         "t": 60
        },
        "template": {
         "data": {
          "bar": [
           {
            "error_x": {
             "color": "#2a3f5f"
            },
            "error_y": {
             "color": "#2a3f5f"
            },
            "marker": {
             "line": {
              "color": "#E5ECF6",
              "width": 0.5
             },
             "pattern": {
              "fillmode": "overlay",
              "size": 10,
              "solidity": 0.2
             }
            },
            "type": "bar"
           }
          ],
          "barpolar": [
           {
            "marker": {
             "line": {
              "color": "#E5ECF6",
              "width": 0.5
             },
             "pattern": {
              "fillmode": "overlay",
              "size": 10,
              "solidity": 0.2
             }
            },
            "type": "barpolar"
           }
          ],
          "carpet": [
           {
            "aaxis": {
             "endlinecolor": "#2a3f5f",
             "gridcolor": "white",
             "linecolor": "white",
             "minorgridcolor": "white",
             "startlinecolor": "#2a3f5f"
            },
            "baxis": {
             "endlinecolor": "#2a3f5f",
             "gridcolor": "white",
             "linecolor": "white",
             "minorgridcolor": "white",
             "startlinecolor": "#2a3f5f"
            },
            "type": "carpet"
           }
          ],
          "choropleth": [
           {
            "colorbar": {
             "outlinewidth": 0,
             "ticks": ""
            },
            "type": "choropleth"
           }
          ],
          "contour": [
           {
            "colorbar": {
             "outlinewidth": 0,
             "ticks": ""
            },
            "colorscale": [
             [
              0,
              "#0d0887"
             ],
             [
              0.1111111111111111,
              "#46039f"
             ],
             [
              0.2222222222222222,
              "#7201a8"
             ],
             [
              0.3333333333333333,
              "#9c179e"
             ],
             [
              0.4444444444444444,
              "#bd3786"
             ],
             [
              0.5555555555555556,
              "#d8576b"
             ],
             [
              0.6666666666666666,
              "#ed7953"
             ],
             [
              0.7777777777777778,
              "#fb9f3a"
             ],
             [
              0.8888888888888888,
              "#fdca26"
             ],
             [
              1,
              "#f0f921"
             ]
            ],
            "type": "contour"
           }
          ],
          "contourcarpet": [
           {
            "colorbar": {
             "outlinewidth": 0,
             "ticks": ""
            },
            "type": "contourcarpet"
           }
          ],
          "heatmap": [
           {
            "colorbar": {
             "outlinewidth": 0,
             "ticks": ""
            },
            "colorscale": [
             [
              0,
              "#0d0887"
             ],
             [
              0.1111111111111111,
              "#46039f"
             ],
             [
              0.2222222222222222,
              "#7201a8"
             ],
             [
              0.3333333333333333,
              "#9c179e"
             ],
             [
              0.4444444444444444,
              "#bd3786"
             ],
             [
              0.5555555555555556,
              "#d8576b"
             ],
             [
              0.6666666666666666,
              "#ed7953"
             ],
             [
              0.7777777777777778,
              "#fb9f3a"
             ],
             [
              0.8888888888888888,
              "#fdca26"
             ],
             [
              1,
              "#f0f921"
             ]
            ],
            "type": "heatmap"
           }
          ],
          "heatmapgl": [
           {
            "colorbar": {
             "outlinewidth": 0,
             "ticks": ""
            },
            "colorscale": [
             [
              0,
              "#0d0887"
             ],
             [
              0.1111111111111111,
              "#46039f"
             ],
             [
              0.2222222222222222,
              "#7201a8"
             ],
             [
              0.3333333333333333,
              "#9c179e"
             ],
             [
              0.4444444444444444,
              "#bd3786"
             ],
             [
              0.5555555555555556,
              "#d8576b"
             ],
             [
              0.6666666666666666,
              "#ed7953"
             ],
             [
              0.7777777777777778,
              "#fb9f3a"
             ],
             [
              0.8888888888888888,
              "#fdca26"
             ],
             [
              1,
              "#f0f921"
             ]
            ],
            "type": "heatmapgl"
           }
          ],
          "histogram": [
           {
            "marker": {
             "pattern": {
              "fillmode": "overlay",
              "size": 10,
              "solidity": 0.2
             }
            },
            "type": "histogram"
           }
          ],
          "histogram2d": [
           {
            "colorbar": {
             "outlinewidth": 0,
             "ticks": ""
            },
            "colorscale": [
             [
              0,
              "#0d0887"
             ],
             [
              0.1111111111111111,
              "#46039f"
             ],
             [
              0.2222222222222222,
              "#7201a8"
             ],
             [
              0.3333333333333333,
              "#9c179e"
             ],
             [
              0.4444444444444444,
              "#bd3786"
             ],
             [
              0.5555555555555556,
              "#d8576b"
             ],
             [
              0.6666666666666666,
              "#ed7953"
             ],
             [
              0.7777777777777778,
              "#fb9f3a"
             ],
             [
              0.8888888888888888,
              "#fdca26"
             ],
             [
              1,
              "#f0f921"
             ]
            ],
            "type": "histogram2d"
           }
          ],
          "histogram2dcontour": [
           {
            "colorbar": {
             "outlinewidth": 0,
             "ticks": ""
            },
            "colorscale": [
             [
              0,
              "#0d0887"
             ],
             [
              0.1111111111111111,
              "#46039f"
             ],
             [
              0.2222222222222222,
              "#7201a8"
             ],
             [
              0.3333333333333333,
              "#9c179e"
             ],
             [
              0.4444444444444444,
              "#bd3786"
             ],
             [
              0.5555555555555556,
              "#d8576b"
             ],
             [
              0.6666666666666666,
              "#ed7953"
             ],
             [
              0.7777777777777778,
              "#fb9f3a"
             ],
             [
              0.8888888888888888,
              "#fdca26"
             ],
             [
              1,
              "#f0f921"
             ]
            ],
            "type": "histogram2dcontour"
           }
          ],
          "mesh3d": [
           {
            "colorbar": {
             "outlinewidth": 0,
             "ticks": ""
            },
            "type": "mesh3d"
           }
          ],
          "parcoords": [
           {
            "line": {
             "colorbar": {
              "outlinewidth": 0,
              "ticks": ""
             }
            },
            "type": "parcoords"
           }
          ],
          "pie": [
           {
            "automargin": true,
            "type": "pie"
           }
          ],
          "scatter": [
           {
            "fillpattern": {
             "fillmode": "overlay",
             "size": 10,
             "solidity": 0.2
            },
            "type": "scatter"
           }
          ],
          "scatter3d": [
           {
            "line": {
             "colorbar": {
              "outlinewidth": 0,
              "ticks": ""
             }
            },
            "marker": {
             "colorbar": {
              "outlinewidth": 0,
              "ticks": ""
             }
            },
            "type": "scatter3d"
           }
          ],
          "scattercarpet": [
           {
            "marker": {
             "colorbar": {
              "outlinewidth": 0,
              "ticks": ""
             }
            },
            "type": "scattercarpet"
           }
          ],
          "scattergeo": [
           {
            "marker": {
             "colorbar": {
              "outlinewidth": 0,
              "ticks": ""
             }
            },
            "type": "scattergeo"
           }
          ],
          "scattergl": [
           {
            "marker": {
             "colorbar": {
              "outlinewidth": 0,
              "ticks": ""
             }
            },
            "type": "scattergl"
           }
          ],
          "scattermapbox": [
           {
            "marker": {
             "colorbar": {
              "outlinewidth": 0,
              "ticks": ""
             }
            },
            "type": "scattermapbox"
           }
          ],
          "scatterpolar": [
           {
            "marker": {
             "colorbar": {
              "outlinewidth": 0,
              "ticks": ""
             }
            },
            "type": "scatterpolar"
           }
          ],
          "scatterpolargl": [
           {
            "marker": {
             "colorbar": {
              "outlinewidth": 0,
              "ticks": ""
             }
            },
            "type": "scatterpolargl"
           }
          ],
          "scatterternary": [
           {
            "marker": {
             "colorbar": {
              "outlinewidth": 0,
              "ticks": ""
             }
            },
            "type": "scatterternary"
           }
          ],
          "surface": [
           {
            "colorbar": {
             "outlinewidth": 0,
             "ticks": ""
            },
            "colorscale": [
             [
              0,
              "#0d0887"
             ],
             [
              0.1111111111111111,
              "#46039f"
             ],
             [
              0.2222222222222222,
              "#7201a8"
             ],
             [
              0.3333333333333333,
              "#9c179e"
             ],
             [
              0.4444444444444444,
              "#bd3786"
             ],
             [
              0.5555555555555556,
              "#d8576b"
             ],
             [
              0.6666666666666666,
              "#ed7953"
             ],
             [
              0.7777777777777778,
              "#fb9f3a"
             ],
             [
              0.8888888888888888,
              "#fdca26"
             ],
             [
              1,
              "#f0f921"
             ]
            ],
            "type": "surface"
           }
          ],
          "table": [
           {
            "cells": {
             "fill": {
              "color": "#EBF0F8"
             },
             "line": {
              "color": "white"
             }
            },
            "header": {
             "fill": {
              "color": "#C8D4E3"
             },
             "line": {
              "color": "white"
             }
            },
            "type": "table"
           }
          ]
         },
         "layout": {
          "annotationdefaults": {
           "arrowcolor": "#2a3f5f",
           "arrowhead": 0,
           "arrowwidth": 1
          },
          "autotypenumbers": "strict",
          "coloraxis": {
           "colorbar": {
            "outlinewidth": 0,
            "ticks": ""
           }
          },
          "colorscale": {
           "diverging": [
            [
             0,
             "#8e0152"
            ],
            [
             0.1,
             "#c51b7d"
            ],
            [
             0.2,
             "#de77ae"
            ],
            [
             0.3,
             "#f1b6da"
            ],
            [
             0.4,
             "#fde0ef"
            ],
            [
             0.5,
             "#f7f7f7"
            ],
            [
             0.6,
             "#e6f5d0"
            ],
            [
             0.7,
             "#b8e186"
            ],
            [
             0.8,
             "#7fbc41"
            ],
            [
             0.9,
             "#4d9221"
            ],
            [
             1,
             "#276419"
            ]
           ],
           "sequential": [
            [
             0,
             "#0d0887"
            ],
            [
             0.1111111111111111,
             "#46039f"
            ],
            [
             0.2222222222222222,
             "#7201a8"
            ],
            [
             0.3333333333333333,
             "#9c179e"
            ],
            [
             0.4444444444444444,
             "#bd3786"
            ],
            [
             0.5555555555555556,
             "#d8576b"
            ],
            [
             0.6666666666666666,
             "#ed7953"
            ],
            [
             0.7777777777777778,
             "#fb9f3a"
            ],
            [
             0.8888888888888888,
             "#fdca26"
            ],
            [
             1,
             "#f0f921"
            ]
           ],
           "sequentialminus": [
            [
             0,
             "#0d0887"
            ],
            [
             0.1111111111111111,
             "#46039f"
            ],
            [
             0.2222222222222222,
             "#7201a8"
            ],
            [
             0.3333333333333333,
             "#9c179e"
            ],
            [
             0.4444444444444444,
             "#bd3786"
            ],
            [
             0.5555555555555556,
             "#d8576b"
            ],
            [
             0.6666666666666666,
             "#ed7953"
            ],
            [
             0.7777777777777778,
             "#fb9f3a"
            ],
            [
             0.8888888888888888,
             "#fdca26"
            ],
            [
             1,
             "#f0f921"
            ]
           ]
          },
          "colorway": [
           "#636efa",
           "#EF553B",
           "#00cc96",
           "#ab63fa",
           "#FFA15A",
           "#19d3f3",
           "#FF6692",
           "#B6E880",
           "#FF97FF",
           "#FECB52"
          ],
          "font": {
           "color": "#2a3f5f"
          },
          "geo": {
           "bgcolor": "white",
           "lakecolor": "white",
           "landcolor": "#E5ECF6",
           "showlakes": true,
           "showland": true,
           "subunitcolor": "white"
          },
          "hoverlabel": {
           "align": "left"
          },
          "hovermode": "closest",
          "mapbox": {
           "style": "light"
          },
          "paper_bgcolor": "white",
          "plot_bgcolor": "#E5ECF6",
          "polar": {
           "angularaxis": {
            "gridcolor": "white",
            "linecolor": "white",
            "ticks": ""
           },
           "bgcolor": "#E5ECF6",
           "radialaxis": {
            "gridcolor": "white",
            "linecolor": "white",
            "ticks": ""
           }
          },
          "scene": {
           "xaxis": {
            "backgroundcolor": "#E5ECF6",
            "gridcolor": "white",
            "gridwidth": 2,
            "linecolor": "white",
            "showbackground": true,
            "ticks": "",
            "zerolinecolor": "white"
           },
           "yaxis": {
            "backgroundcolor": "#E5ECF6",
            "gridcolor": "white",
            "gridwidth": 2,
            "linecolor": "white",
            "showbackground": true,
            "ticks": "",
            "zerolinecolor": "white"
           },
           "zaxis": {
            "backgroundcolor": "#E5ECF6",
            "gridcolor": "white",
            "gridwidth": 2,
            "linecolor": "white",
            "showbackground": true,
            "ticks": "",
            "zerolinecolor": "white"
           }
          },
          "shapedefaults": {
           "line": {
            "color": "#2a3f5f"
           }
          },
          "ternary": {
           "aaxis": {
            "gridcolor": "white",
            "linecolor": "white",
            "ticks": ""
           },
           "baxis": {
            "gridcolor": "white",
            "linecolor": "white",
            "ticks": ""
           },
           "bgcolor": "#E5ECF6",
           "caxis": {
            "gridcolor": "white",
            "linecolor": "white",
            "ticks": ""
           }
          },
          "title": {
           "x": 0.05
          },
          "xaxis": {
           "automargin": true,
           "gridcolor": "white",
           "linecolor": "white",
           "ticks": "",
           "title": {
            "standoff": 15
           },
           "zerolinecolor": "white",
           "zerolinewidth": 2
          },
          "yaxis": {
           "automargin": true,
           "gridcolor": "white",
           "linecolor": "white",
           "ticks": "",
           "title": {
            "standoff": 15
           },
           "zerolinecolor": "white",
           "zerolinewidth": 2
          }
         }
        },
        "xaxis": {
         "anchor": "y",
         "domain": [
          0,
          1
         ],
         "title": {
          "text": "Country"
         }
        },
        "yaxis": {
         "anchor": "x",
         "domain": [
          0,
          1
         ],
         "title": {
          "text": "Population"
         }
        }
       }
      }
     },
     "metadata": {},
     "output_type": "display_data"
    }
   ],
   "source": [
    "px.bar(\n",
    "    df2[df2['Country'].isin(list_countries)], x='Country', y='Population'\n",
    ")"
   ]
  }
 ],
 "metadata": {
  "kernelspec": {
   "display_name": "24-streamlit",
   "language": "python",
   "name": "python3"
  },
  "language_info": {
   "codemirror_mode": {
    "name": "ipython",
    "version": 3
   },
   "file_extension": ".py",
   "mimetype": "text/x-python",
   "name": "python",
   "nbconvert_exporter": "python",
   "pygments_lexer": "ipython3",
   "version": "3.10.0"
  }
 },
 "nbformat": 4,
 "nbformat_minor": 2
}
